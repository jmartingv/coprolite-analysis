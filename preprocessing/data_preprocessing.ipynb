{
 "cells": [
  {
   "cell_type": "markdown",
   "metadata": {},
   "source": [
    "# Preprocesamiento de los datos"
   ]
  },
  {
   "cell_type": "markdown",
   "metadata": {},
   "source": [
    "**Catálogo de valores:**\n",
    "\n",
    "*Número_de_inclusiones:* 1 <15 ; 2 = 15–30 ; 3 = 31 – 45; 4 >45\n",
    "\n",
    "*Agujeros:* 1 – absent; 2 – light; 3 – noticeable; 4 – great\n",
    "\n",
    "*Lineas_de_corrosion:* 1 – absent; 2 – slight; 3 – noticeable\n",
    "\n",
    "*Señal_quimica:* 1 – light; 2 – moderate; 3 – heavy\n",
    "\n",
    "*Diametro_mm:* 1 < 5; 2 = 5–9.9 ; 3 = 10–19.9; 4 >20\n",
    "\n",
    "*Arreglo_de_inclusiones:* 1 – no visible; 2 – fragmented; 3 – articulated; 4 – isolated\n",
    "\n",
    "*Forma_de_fracturas_en_terminaciones:* 1 – blunt; 2 – pinched; 3 – straight; 4 – irregular; 5 – all types "
   ]
  },
  {
   "cell_type": "markdown",
   "metadata": {},
   "source": [
    "## Inspección de los datos"
   ]
  },
  {
   "cell_type": "markdown",
   "metadata": {},
   "source": [
    "### Importar librerías"
   ]
  },
  {
   "cell_type": "code",
   "execution_count": 1,
   "metadata": {},
   "outputs": [],
   "source": [
    "import pandas as pd\n",
    "import seaborn as sns\n",
    "import matplotlib.pyplot as plt\n",
    "import re\n",
    "import os"
   ]
  },
  {
   "cell_type": "markdown",
   "metadata": {},
   "source": [
    "### Cargar datos"
   ]
  },
  {
   "cell_type": "code",
   "execution_count": 2,
   "metadata": {},
   "outputs": [],
   "source": [
    "# Load the data\n",
    "df = pd.read_excel('../data/raw/coprolitos_raw.xlsx')"
   ]
  },
  {
   "cell_type": "markdown",
   "metadata": {},
   "source": [
    "### Inspeccionar primero elementos de nuestros datos"
   ]
  },
  {
   "cell_type": "code",
   "execution_count": 3,
   "metadata": {},
   "outputs": [
    {
     "data": {
      "text/html": [
       "<div>\n",
       "<style scoped>\n",
       "    .dataframe tbody tr th:only-of-type {\n",
       "        vertical-align: middle;\n",
       "    }\n",
       "\n",
       "    .dataframe tbody tr th {\n",
       "        vertical-align: top;\n",
       "    }\n",
       "\n",
       "    .dataframe thead th {\n",
       "        text-align: right;\n",
       "    }\n",
       "</style>\n",
       "<table border=\"1\" class=\"dataframe\">\n",
       "  <thead>\n",
       "    <tr style=\"text-align: right;\">\n",
       "      <th></th>\n",
       "      <th>Ejemplar</th>\n",
       "      <th># inclusiones</th>\n",
       "      <th>agujeros</th>\n",
       "      <th>líneas de corrosión</th>\n",
       "      <th>señal química</th>\n",
       "      <th>diamétro (mm)</th>\n",
       "      <th>arreglo de inclusiones</th>\n",
       "      <th>forma de fracturas en terminaciones</th>\n",
       "    </tr>\n",
       "  </thead>\n",
       "  <tbody>\n",
       "    <tr>\n",
       "      <th>0</th>\n",
       "      <td>1 bump headed lace</td>\n",
       "      <td>4</td>\n",
       "      <td>2.0</td>\n",
       "      <td>1.0</td>\n",
       "      <td>1.0</td>\n",
       "      <td>1</td>\n",
       "      <td>2</td>\n",
       "      <td>5.0</td>\n",
       "    </tr>\n",
       "    <tr>\n",
       "      <th>1</th>\n",
       "      <td>2 bump headed lace</td>\n",
       "      <td>4</td>\n",
       "      <td>2.0</td>\n",
       "      <td>2.0</td>\n",
       "      <td>1.0</td>\n",
       "      <td>1</td>\n",
       "      <td>2</td>\n",
       "      <td>3.0</td>\n",
       "    </tr>\n",
       "    <tr>\n",
       "      <th>2</th>\n",
       "      <td>3 circular</td>\n",
       "      <td>1</td>\n",
       "      <td>2.0</td>\n",
       "      <td>1.0</td>\n",
       "      <td>1.0</td>\n",
       "      <td>1</td>\n",
       "      <td>4</td>\n",
       "      <td>5.0</td>\n",
       "    </tr>\n",
       "    <tr>\n",
       "      <th>3</th>\n",
       "      <td>4 circular</td>\n",
       "      <td>3</td>\n",
       "      <td>2.0</td>\n",
       "      <td>2.0</td>\n",
       "      <td>1.0</td>\n",
       "      <td>2</td>\n",
       "      <td>4</td>\n",
       "      <td>5.0</td>\n",
       "    </tr>\n",
       "    <tr>\n",
       "      <th>4</th>\n",
       "      <td>5 cilíndrico</td>\n",
       "      <td>1</td>\n",
       "      <td>NaN</td>\n",
       "      <td>NaN</td>\n",
       "      <td>NaN</td>\n",
       "      <td>3</td>\n",
       "      <td>1</td>\n",
       "      <td>NaN</td>\n",
       "    </tr>\n",
       "  </tbody>\n",
       "</table>\n",
       "</div>"
      ],
      "text/plain": [
       "             Ejemplar  # inclusiones  agujeros  líneas de corrosión  \\\n",
       "0  1 bump headed lace              4       2.0                  1.0   \n",
       "1  2 bump headed lace              4       2.0                  2.0   \n",
       "2          3 circular              1       2.0                  1.0   \n",
       "3          4 circular              3       2.0                  2.0   \n",
       "4        5 cilíndrico              1       NaN                  NaN   \n",
       "\n",
       "   señal química  diamétro (mm)  arreglo de inclusiones  \\\n",
       "0            1.0              1                       2   \n",
       "1            1.0              1                       2   \n",
       "2            1.0              1                       4   \n",
       "3            1.0              2                       4   \n",
       "4            NaN              3                       1   \n",
       "\n",
       "   forma de fracturas en terminaciones  \n",
       "0                                  5.0  \n",
       "1                                  3.0  \n",
       "2                                  5.0  \n",
       "3                                  5.0  \n",
       "4                                  NaN  "
      ]
     },
     "execution_count": 3,
     "metadata": {},
     "output_type": "execute_result"
    }
   ],
   "source": [
    "df.head()"
   ]
  },
  {
   "cell_type": "markdown",
   "metadata": {},
   "source": [
    "Notamos que los valores de la columna Ejemplar contiene texto adicional, lo eliminamos para quedarnos solo con el nombre."
   ]
  },
  {
   "cell_type": "code",
   "execution_count": 4,
   "metadata": {},
   "outputs": [
    {
     "data": {
      "text/plain": [
       "array(['bump headed lace', 'circular', 'cilíndrico', 'ciclíndrico',\n",
       "       'cono', 'elipsoidal', 'elongado', 'forma de pino', 'irregular',\n",
       "       'forma de rosario', 'espiral', 'forma de encaje recto',\n",
       "       'encaje delgado'], dtype=object)"
      ]
     },
     "execution_count": 4,
     "metadata": {},
     "output_type": "execute_result"
    }
   ],
   "source": [
    "# Función Viowi\n",
    "\n",
    "# Definir una función que realiza la transformación...\n",
    "def limpiar_columna(texto):\n",
    "    # Eliminar los números\n",
    "    texto_sin_numeros = re.sub(r'\\d+', '', texto)\n",
    "    # Eliminar espacios a la izquierda y a la derecha\n",
    "    texto_limpio = texto_sin_numeros.strip()\n",
    "    return texto_limpio\n",
    "\n",
    "# Aplicar la función a la columna del DataFrame\n",
    "df['Ejemplar'] = df['Ejemplar'].apply(limpiar_columna)\n",
    "\n",
    "# Imprimir los nuevos valores de la columna Ejemplar\n",
    "df['Ejemplar'].unique()\n"
   ]
  },
  {
   "cell_type": "markdown",
   "metadata": {},
   "source": [
    "Notamos que existe un typo en \"ciclíndrico\" "
   ]
  },
  {
   "cell_type": "code",
   "execution_count": 5,
   "metadata": {},
   "outputs": [
    {
     "data": {
      "text/plain": [
       "array(['bump headed lace', 'circular', 'cilíndrico', 'cono', 'elipsoidal',\n",
       "       'elongado', 'forma de pino', 'irregular', 'forma de rosario',\n",
       "       'espiral', 'forma de encaje recto', 'encaje delgado'], dtype=object)"
      ]
     },
     "execution_count": 5,
     "metadata": {},
     "output_type": "execute_result"
    }
   ],
   "source": [
    "df.loc[df['Ejemplar'] == 'ciclíndrico', 'Ejemplar'] = 'cilíndrico';\n",
    "\n",
    "# Imprimos nuevamente los valores de la columna\n",
    "df['Ejemplar'].unique()"
   ]
  },
  {
   "cell_type": "markdown",
   "metadata": {},
   "source": [
    "### Cambiar el nombre de las columnas"
   ]
  },
  {
   "cell_type": "code",
   "execution_count": 6,
   "metadata": {},
   "outputs": [
    {
     "data": {
      "text/plain": [
       "Index(['Ejemplar', 'Numero_de_inclusiones', 'Agujeros', 'Lineas_de_corrosion',\n",
       "       'Señal_quimica', 'Diametro_mm', 'Arreglo_de_inclusiones',\n",
       "       'Forma_de_fracturas_en_terminaciones'],\n",
       "      dtype='object')"
      ]
     },
     "execution_count": 6,
     "metadata": {},
     "output_type": "execute_result"
    }
   ],
   "source": [
    "# Cambiar el nombre de las columnas\n",
    "df = df.rename(columns={'# inclusiones': 'Numero_de_inclusiones', 'agujeros': 'Agujeros', 'líneas de corrosión': 'Lineas_de_corrosion', 'señal química': 'Señal_quimica', 'diamétro (mm)': 'Diametro_mm', 'arreglo de inclusiones' : 'Arreglo_de_inclusiones', 'forma de fracturas en terminaciones': 'Forma_de_fracturas_en_terminaciones'})\n",
    "\n",
    "# Imprimir nuevas columnas\n",
    "df.columns"
   ]
  },
  {
   "cell_type": "markdown",
   "metadata": {},
   "source": [
    "### Valores pérdidos"
   ]
  },
  {
   "cell_type": "code",
   "execution_count": 7,
   "metadata": {},
   "outputs": [
    {
     "data": {
      "text/plain": [
       "Ejemplar                               0\n",
       "Numero_de_inclusiones                  0\n",
       "Agujeros                               4\n",
       "Lineas_de_corrosion                    4\n",
       "Señal_quimica                          4\n",
       "Diametro_mm                            0\n",
       "Arreglo_de_inclusiones                 0\n",
       "Forma_de_fracturas_en_terminaciones    4\n",
       "dtype: int64"
      ]
     },
     "execution_count": 7,
     "metadata": {},
     "output_type": "execute_result"
    }
   ],
   "source": [
    "df.isna().sum()"
   ]
  },
  {
   "cell_type": "markdown",
   "metadata": {},
   "source": [
    "### Imputar valores pérdidos"
   ]
  },
  {
   "cell_type": "markdown",
   "metadata": {},
   "source": [
    "Creamos un DataFrame solo con las filas que contienen valores pérdidos."
   ]
  },
  {
   "cell_type": "code",
   "execution_count": 8,
   "metadata": {},
   "outputs": [
    {
     "data": {
      "text/html": [
       "<div>\n",
       "<style scoped>\n",
       "    .dataframe tbody tr th:only-of-type {\n",
       "        vertical-align: middle;\n",
       "    }\n",
       "\n",
       "    .dataframe tbody tr th {\n",
       "        vertical-align: top;\n",
       "    }\n",
       "\n",
       "    .dataframe thead th {\n",
       "        text-align: right;\n",
       "    }\n",
       "</style>\n",
       "<table border=\"1\" class=\"dataframe\">\n",
       "  <thead>\n",
       "    <tr style=\"text-align: right;\">\n",
       "      <th></th>\n",
       "      <th>Ejemplar</th>\n",
       "      <th>Numero_de_inclusiones</th>\n",
       "      <th>Agujeros</th>\n",
       "      <th>Lineas_de_corrosion</th>\n",
       "      <th>Señal_quimica</th>\n",
       "      <th>Diametro_mm</th>\n",
       "      <th>Arreglo_de_inclusiones</th>\n",
       "      <th>Forma_de_fracturas_en_terminaciones</th>\n",
       "    </tr>\n",
       "  </thead>\n",
       "  <tbody>\n",
       "    <tr>\n",
       "      <th>4</th>\n",
       "      <td>cilíndrico</td>\n",
       "      <td>1</td>\n",
       "      <td>NaN</td>\n",
       "      <td>NaN</td>\n",
       "      <td>NaN</td>\n",
       "      <td>3</td>\n",
       "      <td>1</td>\n",
       "      <td>NaN</td>\n",
       "    </tr>\n",
       "    <tr>\n",
       "      <th>6</th>\n",
       "      <td>cilíndrico</td>\n",
       "      <td>1</td>\n",
       "      <td>NaN</td>\n",
       "      <td>NaN</td>\n",
       "      <td>NaN</td>\n",
       "      <td>3</td>\n",
       "      <td>1</td>\n",
       "      <td>NaN</td>\n",
       "    </tr>\n",
       "    <tr>\n",
       "      <th>13</th>\n",
       "      <td>irregular</td>\n",
       "      <td>1</td>\n",
       "      <td>NaN</td>\n",
       "      <td>NaN</td>\n",
       "      <td>NaN</td>\n",
       "      <td>4</td>\n",
       "      <td>1</td>\n",
       "      <td>NaN</td>\n",
       "    </tr>\n",
       "    <tr>\n",
       "      <th>17</th>\n",
       "      <td>espiral</td>\n",
       "      <td>1</td>\n",
       "      <td>NaN</td>\n",
       "      <td>NaN</td>\n",
       "      <td>NaN</td>\n",
       "      <td>1</td>\n",
       "      <td>4</td>\n",
       "      <td>NaN</td>\n",
       "    </tr>\n",
       "  </tbody>\n",
       "</table>\n",
       "</div>"
      ],
      "text/plain": [
       "      Ejemplar  Numero_de_inclusiones  Agujeros  Lineas_de_corrosion  \\\n",
       "4   cilíndrico                      1       NaN                  NaN   \n",
       "6   cilíndrico                      1       NaN                  NaN   \n",
       "13   irregular                      1       NaN                  NaN   \n",
       "17     espiral                      1       NaN                  NaN   \n",
       "\n",
       "    Señal_quimica  Diametro_mm  Arreglo_de_inclusiones  \\\n",
       "4             NaN            3                       1   \n",
       "6             NaN            3                       1   \n",
       "13            NaN            4                       1   \n",
       "17            NaN            1                       4   \n",
       "\n",
       "    Forma_de_fracturas_en_terminaciones  \n",
       "4                                   NaN  \n",
       "6                                   NaN  \n",
       "13                                  NaN  \n",
       "17                                  NaN  "
      ]
     },
     "execution_count": 8,
     "metadata": {},
     "output_type": "execute_result"
    }
   ],
   "source": [
    "# Extraer las filas que contienen al menos un valor perdido\n",
    "df_with_missing_values = df[df.isnull().any(axis=1)]\n",
    "\n",
    "df_with_missing_values"
   ]
  },
  {
   "cell_type": "markdown",
   "metadata": {},
   "source": [
    "Para imputar vamos a utilizar la moda de los elementos que pertenecen al mismo Ejemplar. Dado que el Ejemplar \"espiral\" solo se encuentra una vez en nuestro Dataset, recurriremos al elemento más parecido. Tras consultarlo con la experta, sugiere que nos basemos en el ejemplar \"cono\". "
   ]
  },
  {
   "cell_type": "code",
   "execution_count": 9,
   "metadata": {},
   "outputs": [
    {
     "name": "stdout",
     "output_type": "stream",
     "text": [
      "Valor nulo imputado en la fila 4 (cilíndrico), columna Agujeros con la moda 2.0\n",
      "Valor nulo imputado en la fila 4 (cilíndrico), columna Lineas_de_corrosion con la moda 1.0\n",
      "Valor nulo imputado en la fila 4 (cilíndrico), columna Señal_quimica con la moda 1.0\n",
      "Valor nulo imputado en la fila 4 (cilíndrico), columna Forma_de_fracturas_en_terminaciones con la moda 5.0\n",
      "Valor nulo imputado en la fila 6 (cilíndrico), columna Agujeros con la moda 2.0\n",
      "Valor nulo imputado en la fila 6 (cilíndrico), columna Lineas_de_corrosion con la moda 1.0\n",
      "Valor nulo imputado en la fila 6 (cilíndrico), columna Señal_quimica con la moda 1.0\n",
      "Valor nulo imputado en la fila 6 (cilíndrico), columna Forma_de_fracturas_en_terminaciones con la moda 5.0\n",
      "Valor nulo imputado en la fila 13 (irregular), columna Agujeros con la moda 2.0\n",
      "Valor nulo imputado en la fila 13 (irregular), columna Lineas_de_corrosion con la moda 1.0\n",
      "Valor nulo imputado en la fila 13 (irregular), columna Señal_quimica con la moda 1.0\n",
      "Valor nulo imputado en la fila 13 (irregular), columna Forma_de_fracturas_en_terminaciones con la moda 1.0\n",
      "Valor nulo imputado en la fila 17 (espiral), columna Agujeros con la moda 2.0\n",
      "Valor nulo imputado en la fila 17 (espiral), columna Lineas_de_corrosion con la moda 2.0\n",
      "Valor nulo imputado en la fila 17 (espiral), columna Señal_quimica con la moda 2.0\n",
      "Valor nulo imputado en la fila 17 (espiral), columna Forma_de_fracturas_en_terminaciones con la moda 1.0\n"
     ]
    }
   ],
   "source": [
    "# Imputar valores perdidos con la moda de las filas que tienen el mismo valor en 'Ejemplar'\n",
    "for row in df_with_missing_values.index:\n",
    "    for col in df_with_missing_values.columns:\n",
    "        if pd.isna(df_with_missing_values.loc[row, col]):\n",
    "            ejemplar_value = df_with_missing_values.loc[row, 'Ejemplar']\n",
    "            moda_value = df[df['Ejemplar'] == ejemplar_value][col].mode()\n",
    "            if not moda_value.empty:\n",
    "                df.loc[row, col] = moda_value[0]\n",
    "            if df_with_missing_values.loc[row, 'Ejemplar'] == 'espiral':\n",
    "                moda_value = df[df['Ejemplar'] == 'cono'][col].mode()\n",
    "                df.loc[row, col] = moda_value[0]\n",
    "            print(f'Valor nulo imputado en la fila {row} ({df.loc[row,'Ejemplar']}), columna {col} con la moda {moda_value[0]}')"
   ]
  },
  {
   "cell_type": "markdown",
   "metadata": {},
   "source": [
    "### Tipo de datos"
   ]
  },
  {
   "cell_type": "code",
   "execution_count": 24,
   "metadata": {},
   "outputs": [
    {
     "data": {
      "text/plain": [
       "Ejemplar                                object\n",
       "Numero_de_inclusiones                    int64\n",
       "Agujeros                               float64\n",
       "Lineas_de_corrosion                    float64\n",
       "Señal_quimica                          float64\n",
       "Diametro_mm                              int64\n",
       "Arreglo_de_inclusiones                   int64\n",
       "Forma_de_fracturas_en_terminaciones    float64\n",
       "dtype: object"
      ]
     },
     "execution_count": 24,
     "metadata": {},
     "output_type": "execute_result"
    }
   ],
   "source": [
    "df.dtypes"
   ]
  },
  {
   "cell_type": "markdown",
   "metadata": {},
   "source": [
    "Dado que todos los valores son enteros representando categorías, convertimos los valores flotantes a enteros."
   ]
  },
  {
   "cell_type": "code",
   "execution_count": 25,
   "metadata": {},
   "outputs": [
    {
     "data": {
      "text/plain": [
       "Ejemplar                               object\n",
       "Numero_de_inclusiones                    int8\n",
       "Agujeros                                 int8\n",
       "Lineas_de_corrosion                      int8\n",
       "Señal_quimica                            int8\n",
       "Diametro_mm                              int8\n",
       "Arreglo_de_inclusiones                   int8\n",
       "Forma_de_fracturas_en_terminaciones      int8\n",
       "dtype: object"
      ]
     },
     "execution_count": 25,
     "metadata": {},
     "output_type": "execute_result"
    }
   ],
   "source": [
    "# Convertir las columnas especificadas a valores enteros, ignorando los valores perdidos\n",
    "columns_to_convert = df.drop(\"Ejemplar\", axis=1).columns\n",
    "df[columns_to_convert] = df[columns_to_convert].apply(lambda x: pd.to_numeric(x, downcast='integer', errors='coerce'))\n",
    "\n",
    "df.dtypes"
   ]
  },
  {
   "cell_type": "markdown",
   "metadata": {},
   "source": [
    "### Almacenar datos procesados"
   ]
  },
  {
   "cell_type": "code",
   "execution_count": 27,
   "metadata": {},
   "outputs": [],
   "source": [
    "# Ruta de la carpeta donde se guardaran los datos procesadoos\n",
    "folder_path = '../data/processed/'\n",
    "\n",
    "# Verificar si la carpeta no existe y crearla si es necesario\n",
    "if not os.path.exists(folder_path):\n",
    "    os.makedirs(folder_path)\n",
    "\n",
    "# Ahora puedes guardar el DataFrame en formato Parquet\n",
    "df.to_excel(folder_path + 'coprolitos_processed.xlsx', index=False)"
   ]
  }
 ],
 "metadata": {
  "kernelspec": {
   "display_name": "Python 3",
   "language": "python",
   "name": "python3"
  },
  "language_info": {
   "codemirror_mode": {
    "name": "ipython",
    "version": 3
   },
   "file_extension": ".py",
   "mimetype": "text/x-python",
   "name": "python",
   "nbconvert_exporter": "python",
   "pygments_lexer": "ipython3",
   "version": "3.12.3"
  }
 },
 "nbformat": 4,
 "nbformat_minor": 2
}
